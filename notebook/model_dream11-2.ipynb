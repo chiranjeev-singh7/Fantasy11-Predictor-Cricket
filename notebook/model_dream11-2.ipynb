{
 "cells": [
  {
   "cell_type": "code",
   "execution_count": 3,
   "id": "8833380d-41fb-406a-b184-7a48614e46f2",
   "metadata": {},
   "outputs": [
    {
     "name": "stdout",
     "output_type": "stream",
     "text": [
      "\n",
      "🧪 Model Evaluation (2024 test):\n",
      "\n",
      "📊 RandomForest - F1 Score: 0.9056\n",
      "📊 GradientBoosting - F1 Score: 0.9080\n",
      "📊 LogisticRegression - F1 Score: 0.9100\n",
      "\n",
      "✅ Best Model: LogisticRegression (F1 = 0.9100)\n"
     ]
    }
   ],
   "source": [
    "import pandas as pd\n",
    "import numpy as np\n",
    "from sklearn.ensemble import RandomForestClassifier, GradientBoostingClassifier\n",
    "from sklearn.linear_model import LogisticRegression\n",
    "from sklearn.metrics import classification_report\n",
    "\n",
    "FEATURES_PATH = r\"C:\\Users\\Chiranjeev Singh\\Desktop\\New folder (2)\\data\\player_features.csv\"\n",
    "MATCHES_PATH = r\"C:\\Users\\Chiranjeev Singh\\Desktop\\New folder (2)\\data\\raw\\matches.csv\"  # Adjust if stored elsewhere\n",
    "\n",
    "# Load features\n",
    "df = pd.read_csv(FEATURES_PATH)\n",
    "df = df.dropna(subset=['fantasy_points', 'match_id'])\n",
    "\n",
    "# Mark players in top 11 fantasy scorers\n",
    "df['in_dream11'] = df.groupby('match_id')['fantasy_points'].rank(ascending=False, method='first') <= 11\n",
    "df['in_dream11'] = df['in_dream11'].astype(int)\n",
    "\n",
    "# Drop leakage/irrelevant columns\n",
    "drop_cols = [\n",
    "    'fantasy_points', 'player', 'batting_team', 'bowling_team',\n",
    "    'team1', 'team2', 'toss_winner', 'toss_decision',\n",
    "    'venue', 'opponent', 'innings_type'\n",
    "]\n",
    "\n",
    "# Load matches and extract year\n",
    "matches = pd.read_csv(MATCHES_PATH)\n",
    "\n",
    "# Use 'season' or 'date' depending on what's available\n",
    "if 'season' in matches.columns:\n",
    "    matches = matches[['id', 'season']].rename(columns={'id': 'match_id', 'season': 'year'})\n",
    "elif 'date' in matches.columns:\n",
    "    matches['year'] = pd.to_datetime(matches['date']).dt.year\n",
    "    matches = matches[['id', 'year']].rename(columns={'id': 'match_id'})\n",
    "else:\n",
    "    raise KeyError(\"Neither 'season' nor 'date' column found in matches.csv\")\n",
    "\n",
    "# Merge into player features\n",
    "df = df.merge(matches, on='match_id', how='left')\n",
    "df['year'] = pd.to_numeric(df['year'], errors='coerce')  # ensure numeric\n",
    "\n",
    "\n",
    "# Split train/test based on year\n",
    "train_df = df[df['year'] <= 2023]\n",
    "test_df = df[df['year'] == 2024]  # Optional: use later for manual testing\n",
    "\n",
    "# Prepare X and y\n",
    "X_train = train_df.drop(columns=[col for col in drop_cols if col in df.columns] + ['in_dream11', 'match_id', 'year'])\n",
    "y_train = train_df['in_dream11']\n",
    "X_train = X_train.select_dtypes(include=[np.number]).fillna(0)\n",
    "\n",
    "X_test = test_df.drop(columns=[col for col in drop_cols if col in df.columns] + ['in_dream11', 'match_id', 'year'])\n",
    "X_test = X_test.select_dtypes(include=[np.number]).fillna(0)\n",
    "y_test = test_df['in_dream11']\n",
    "\n",
    "# Try multiple models\n",
    "models = {\n",
    "    \"RandomForest\": RandomForestClassifier(n_estimators=150, random_state=42),\n",
    "    \"GradientBoosting\": GradientBoostingClassifier(n_estimators=150, random_state=42),\n",
    "    \"LogisticRegression\": LogisticRegression(max_iter=5000)\n",
    "}\n",
    "\n",
    "print(\"\\n🧪 Model Evaluation (2024 test):\\n\")\n",
    "best_model = None\n",
    "best_f1 = 0\n",
    "\n",
    "for name, model in models.items():\n",
    "    model.fit(X_train, y_train)\n",
    "    preds = model.predict(X_test)\n",
    "    report = classification_report(y_test, preds, output_dict=True, zero_division=0)\n",
    "    f1 = report['1']['f1-score']\n",
    "    print(f\"📊 {name} - F1 Score: {f1:.4f}\")\n",
    "\n",
    "    if f1 > best_f1:\n",
    "        best_f1 = f1\n",
    "        best_model = model\n",
    "        best_model_name = name\n",
    "\n",
    "print(f\"\\n✅ Best Model: {best_model_name} (F1 = {best_f1:.4f})\")\n"
   ]
  },
  {
   "cell_type": "code",
   "execution_count": 59,
   "id": "92cddeb7-f522-4f5d-8a70-160645c7e1fb",
   "metadata": {},
   "outputs": [
    {
     "data": {
      "text/plain": [
       "['C:\\\\Users\\\\Chiranjeev Singh\\\\Desktop\\\\New folder (2)\\\\models\\\\model_dream11.pkl']"
      ]
     },
     "execution_count": 59,
     "metadata": {},
     "output_type": "execute_result"
    }
   ],
   "source": [
    "import joblib\n",
    "\n",
    "# Replace this with your actual trained model variable\n",
    "joblib.dump(best_model, r'C:\\Users\\Chiranjeev Singh\\Desktop\\New folder (2)\\models\\model_dream11.pkl')\n"
   ]
  },
  {
   "cell_type": "code",
   "execution_count": null,
   "id": "79d4cd7f-f9c9-4772-918b-a3fcd81e8024",
   "metadata": {},
   "outputs": [],
   "source": []
  }
 ],
 "metadata": {
  "kernelspec": {
   "display_name": "Python 3 (ipykernel)",
   "language": "python",
   "name": "python3"
  },
  "language_info": {
   "codemirror_mode": {
    "name": "ipython",
    "version": 3
   },
   "file_extension": ".py",
   "mimetype": "text/x-python",
   "name": "python",
   "nbconvert_exporter": "python",
   "pygments_lexer": "ipython3",
   "version": "3.12.4"
  }
 },
 "nbformat": 4,
 "nbformat_minor": 5
}
